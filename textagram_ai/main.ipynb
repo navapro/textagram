{
 "cells": [
  {
   "cell_type": "code",
   "execution_count": 1,
   "metadata": {},
   "outputs": [
    {
     "name": "stderr",
     "output_type": "stream",
     "text": [
      "/Users/naveenk/opt/anaconda3/envs/textagram/lib/python3.9/site-packages/tqdm/auto.py:22: TqdmWarning: IProgress not found. Please update jupyter and ipywidgets. See https://ipywidgets.readthedocs.io/en/stable/user_install.html\n",
      "  from .autonotebook import tqdm as notebook_tqdm\n"
     ]
    }
   ],
   "source": [
    "from authtoken import auth_token\n",
    "from firebase_upload import upload_to_firebase\n",
    "from fastapi import FastAPI, Response\n",
    "from fastapi.middleware.cors import CORSMiddleware\n",
    "import torch\n",
    "from torch import autocast\n",
    "from diffusers import StableDiffusionPipeline\n",
    "from io import BytesIO\n",
    "import base64"
   ]
  },
  {
   "cell_type": "code",
   "execution_count": null,
   "metadata": {},
   "outputs": [],
   "source": [
    "app = FastAPI()\n",
    "\n",
    "app.add_middleware(\n",
    "    CORSMiddleware, \n",
    "    allow_credentials=True, \n",
    "    allow_origins=[\"*\"], \n",
    "    allow_methods=[\"*\"], \n",
    "    allow_headers=[\"*\"]\n",
    ")\n",
    "\n",
    "\n",
    "device = \"mps\"\n",
    "model_id = \"CompVis/stable-diffusion-v1-4\"\n",
    "pipe = StableDiffusionPipeline.from_pretrained(model_id,use_auth_token=auth_token)\n",
    "pipe.to(device)\n",
    "\n",
    "@app.get(\"/\")\n",
    "def generate(prompt: str): \n",
    "    image = pipe(prompt, guidance_scale=8.5).images[0]\n",
    "\n",
    "    image.save(\"testimage.png\")\n",
    "    buffer = BytesIO()\n",
    "    image.save(buffer, format=\"PNG\")\n",
    "    imgstr = base64.b64encode(buffer.getvalue())\n",
    "    upload_to_firebase()\n",
    "    return Response(content=imgstr, media_type=\"image/png\")"
   ]
  }
 ],
 "metadata": {
  "kernelspec": {
   "display_name": "Python 3.9.15 ('textagram')",
   "language": "python",
   "name": "python3"
  },
  "language_info": {
   "codemirror_mode": {
    "name": "ipython",
    "version": 3
   },
   "file_extension": ".py",
   "mimetype": "text/x-python",
   "name": "python",
   "nbconvert_exporter": "python",
   "pygments_lexer": "ipython3",
   "version": "3.9.15"
  },
  "orig_nbformat": 4,
  "vscode": {
   "interpreter": {
    "hash": "8f56ed71b46070d34af47b73c8376d129159ded982dfc77997b93d90e90a2d29"
   }
  }
 },
 "nbformat": 4,
 "nbformat_minor": 2
}
